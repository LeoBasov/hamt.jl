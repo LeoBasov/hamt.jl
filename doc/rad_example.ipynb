{
 "cells": [
  {
   "cell_type": "code",
   "execution_count": 1,
   "id": "bc061770-53bd-44cb-a1f2-a059788413e8",
   "metadata": {},
   "outputs": [],
   "source": [
    "import numpy as np\n",
    "import math\n",
    "from sympy import *\n",
    "from scipy.optimize import minimize"
   ]
  },
  {
   "cell_type": "markdown",
   "id": "026995cc-1791-4595-8a8b-931f1837cc12",
   "metadata": {},
   "source": [
    "# Heat flux though a pipe with inner heatng element\n",
    "Givin ist a concentric pipe with $r_o, r_1, r_2$.\n",
    "and $T(r_0) = T_o$ and radiative heat transfere between $r_0$ and $r_1$.\n",
    "Additionaly we have $T(r_2) = T_2$.\n",
    "\n",
    "Give the heat transfere though a pipe\n",
    "$$\n",
    "T_1 - T_2 = \\frac{\\dot{Q}}{\\lambda 2 \\pi L} \\ln\\left( \\frac{r_2}{r_1} \\right)\n",
    "$$\n",
    "and radiative heat transfere in the form\n",
    "$$\n",
    "\\dot{Q}_{0 \\rightarrow 1} = \\sigma A_0 F_{0 \\rightarrow 1} \\left(T_0^4 - T_1^4 \\right)\n",
    "$$\n",
    "Assumin $\\dot{a} = \\frac{A_0}{L} = 2 \\pi r_0$ and with the facto of on an enclosing surface we have $F_{0 \\rightarrow 1} = 1$ we can write\n",
    "$$\n",
    "T_1 - T_2 = \\frac{\\sigma r_0 \\left(T_0^4 - T_1^4 \\right)}{\\lambda} \\ln\\left( \\frac{r_2}{r_1} \\right)\n",
    "$$"
   ]
  },
  {
   "cell_type": "markdown",
   "id": "d24a1a1d-5ac5-4bff-830d-2893f1dc9d28",
   "metadata": {},
   "source": [
    "Or we can write\n",
    "$$\n",
    "Q_{0 \\rightarrow 1} = Q_{2 \\rightarrow backround}\n",
    "$$\n",
    "\n",
    "\\begin{align}\n",
    "\\sigma A_0 \\left(T_0^4 - T_1^4 \\right) = \\sigma A_2 T_2^4\\\\\n",
    "r_0 \\left(T_0^4 - T_1^4 \\right) = r_2 T_2^4\n",
    "\\end{align}\n",
    "leads to\n",
    "\\begin{align}\n",
    "r_o T_1^4 = r_0 T_0^4 - r_2  T_2^4\\\\\n",
    "T_1^4 = T_0^4 - \\frac{r_2}{r_0} T_2^4\n",
    "\\end{align}"
   ]
  },
  {
   "cell_type": "code",
   "execution_count": 2,
   "id": "59bc5feb-072b-45ab-98a0-8722d87a5fd9",
   "metadata": {},
   "outputs": [],
   "source": [
    "T0, T1, T2, r0, r1, r2, sigma, lambd = symbols(\"T_0 T_1 T_2 r_0 r_1 r_2 sigma lambda\", real=True, positive=True)"
   ]
  },
  {
   "cell_type": "code",
   "execution_count": 3,
   "id": "e1cd3d03-00b5-4778-acf8-549aab3001e4",
   "metadata": {},
   "outputs": [
    {
     "data": {
      "text/latex": [
       "$\\displaystyle - T_{1} + T_{2} + \\frac{r_{0} \\sigma \\left(T_{0}^{4} - T_{1}^{4}\\right) \\log{\\left(\\frac{r_{2}}{r_{1}} \\right)}}{\\lambda}$"
      ],
      "text/plain": [
       "-T_1 + T_2 + r_0*sigma*(T_0**4 - T_1**4)*log(r_2/r_1)/lambda"
      ]
     },
     "execution_count": 3,
     "metadata": {},
     "output_type": "execute_result"
    }
   ],
   "source": [
    "eqn = sigma * r0 * (T0**4 - T1**4) * ln(r2/r1) / lambd - T1 + T2\n",
    "eqn"
   ]
  },
  {
   "cell_type": "code",
   "execution_count": 4,
   "id": "b50809ea-034a-4564-bd51-9794ddbec8cb",
   "metadata": {},
   "outputs": [
    {
     "data": {
      "text/latex": [
       "$\\displaystyle - T_{1} + \\frac{\\sqrt[4]{r_{0}} \\sqrt[4]{T_{0}^{4} - T_{1}^{4}}}{\\sqrt[4]{r_{2}}} + \\frac{r_{0} \\sigma \\left(T_{0}^{4} - T_{1}^{4}\\right) \\log{\\left(\\frac{r_{2}}{r_{1}} \\right)}}{\\lambda}$"
      ],
      "text/plain": [
       "-T_1 + r_0**(1/4)*(T_0**4 - T_1**4)**(1/4)/r_2**(1/4) + r_0*sigma*(T_0**4 - T_1**4)*log(r_2/r_1)/lambda"
      ]
     },
     "execution_count": 4,
     "metadata": {},
     "output_type": "execute_result"
    }
   ],
   "source": [
    "eqn_subs = eqn.subs(T2**4, (r0/r2)*(T0**4 - T1**4))\n",
    "eqn_subs"
   ]
  },
  {
   "cell_type": "code",
   "execution_count": 5,
   "id": "12b49336-d779-4ba3-9fe2-d1405c669be2",
   "metadata": {},
   "outputs": [
    {
     "data": {
      "text/latex": [
       "$\\displaystyle - 1.4482862747862 \\cdot 10^{-8} T_{1}^{4} - T_{1} + 0.668740304976422 \\sqrt[4]{62500000000 - T_{1}^{4}} + 905.178921741372$"
      ],
      "text/plain": [
       "-1.4482862747862e-8*T_1**4 - T_1 + 0.668740304976422*(62500000000 - T_1**4)**(1/4) + 905.178921741372"
      ]
     },
     "execution_count": 5,
     "metadata": {},
     "output_type": "execute_result"
    }
   ],
   "source": [
    "eqn_subs_full = eqn_subs.subs(r0, 0.5).subs(r1, 1.5).subs(r2, 2.5).subs(T0, 500).subs(lambd, 1).subs(sigma, 5.670374419e-8)\n",
    "eqn_subs_full"
   ]
  },
  {
   "cell_type": "code",
   "execution_count": 6,
   "id": "728c2ecd-a62e-46f3-9f31-cef67fb18223",
   "metadata": {},
   "outputs": [],
   "source": [
    "f = lambdify(T1, eqn_subs_full)"
   ]
  },
  {
   "cell_type": "code",
   "execution_count": 7,
   "id": "dccd32a4-75bb-4fa9-87a4-ea6c20bbc052",
   "metadata": {},
   "outputs": [
    {
     "data": {
      "text/plain": [
       "      fun: 3.85791565812262e-15\n",
       " hess_inv: array([[0.00719388]])\n",
       "      jac: array([3.79116183e-11])\n",
       "  message: 'Optimization terminated successfully.'\n",
       "     nfev: 24\n",
       "      nit: 11\n",
       "     njev: 12\n",
       "   status: 0\n",
       "  success: True\n",
       "        x: array([464.9943201])"
      ]
     },
     "execution_count": 7,
     "metadata": {},
     "output_type": "execute_result"
    }
   ],
   "source": [
    "minimize(lambda x: f(x)**2, 499)"
   ]
  },
  {
   "cell_type": "code",
   "execution_count": null,
   "id": "9d0fe2a1-5855-4c3a-9108-ad147b67fa04",
   "metadata": {},
   "outputs": [],
   "source": []
  }
 ],
 "metadata": {
  "kernelspec": {
   "display_name": "Python 3 (ipykernel)",
   "language": "python",
   "name": "python3"
  },
  "language_info": {
   "codemirror_mode": {
    "name": "ipython",
    "version": 3
   },
   "file_extension": ".py",
   "mimetype": "text/x-python",
   "name": "python",
   "nbconvert_exporter": "python",
   "pygments_lexer": "ipython3",
   "version": "3.10.1"
  }
 },
 "nbformat": 4,
 "nbformat_minor": 5
}
