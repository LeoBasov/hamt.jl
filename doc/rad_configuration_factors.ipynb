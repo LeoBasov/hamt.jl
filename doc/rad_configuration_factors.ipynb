{
 "cells": [
  {
   "cell_type": "markdown",
   "id": "6d27dd14-97df-4883-b712-6388d2fe2042",
   "metadata": {},
   "source": [
    "# Metode der kegreuzten Faeden\n",
    "This simple methodology can be usde in 2D to calculate configuratin factors.\n",
    "Given to line segments $l_A$ and $l_B$ which are oriented rotating clockwise with normal vectors pointing in opposite directions.\n",
    "Each line consisting of two points $x_{i, 0}$ and $x_{i, 1}$ the shapefactor can be defined as\n",
    "$$\n",
    "F_{A \\rightarrow B} = \\frac{\\overline{x_{A, 0}x_{B, 0}} + \\overline{x_{A, 1}x_{B, 1}} - \\overline{x_{A, 0}x_{B, 1}} - \\overline{x_{A, 1}x_{B, 0}}}{2 \\overline{x_{A, 0}x_{A, 1}}}\n",
    "$$"
   ]
  },
  {
   "cell_type": "code",
   "execution_count": null,
   "id": "933fb2b1-4bba-48f9-a4db-39499b67987d",
   "metadata": {},
   "outputs": [],
   "source": []
  }
 ],
 "metadata": {
  "kernelspec": {
   "display_name": "Python 3 (ipykernel)",
   "language": "python",
   "name": "python3"
  },
  "language_info": {
   "codemirror_mode": {
    "name": "ipython",
    "version": 3
   },
   "file_extension": ".py",
   "mimetype": "text/x-python",
   "name": "python",
   "nbconvert_exporter": "python",
   "pygments_lexer": "ipython3",
   "version": "3.10.1"
  }
 },
 "nbformat": 4,
 "nbformat_minor": 5
}
