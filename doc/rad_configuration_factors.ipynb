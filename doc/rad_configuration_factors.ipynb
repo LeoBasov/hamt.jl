{
 "cells": [
  {
   "cell_type": "markdown",
   "id": "6d27dd14-97df-4883-b712-6388d2fe2042",
   "metadata": {},
   "source": [
    "# Metode der kegreuzten Faeden\n",
    "This simple methodology can be usde in 2D to calculate configuratin factors.\n",
    "Given to line segments $l_A$ and $l_B$ which are oriented rotating clockwise with normal vectors pointing in opposite directions.\n",
    "Each line consisting of two points $x_{i, 0}$ and $x_{i, 1}$ the shapefactor can be defined as\n",
    "$$\n",
    "F_{A \\rightarrow B} = \\frac{\\overline{x_{A, 0}x_{B, 0}} + \\overline{x_{A, 1}x_{B, 1}} - \\overline{x_{A, 0}x_{B, 1}} - \\overline{x_{A, 1}x_{B, 0}}}{2 \\overline{x_{A, 0}x_{A, 1}}}\n",
    "$$"
   ]
  },
  {
   "cell_type": "code",
   "execution_count": 11,
   "id": "8eac1acc-599f-4d61-87b3-c2b6dd40da73",
   "metadata": {},
   "outputs": [],
   "source": [
    "import numpy as np\n",
    "from numpy.linalg import norm\n",
    "\n",
    "def calc_conf_fact(A, B, C, D):\n",
    "    DB = norm(D - B)\n",
    "    AC = norm(A - C)\n",
    "    AB = norm(A - B)\n",
    "    AD = norm(A - D)\n",
    "    BC = norm(B - C)\n",
    "\n",
    "    return (DB + AC - AD - BC) / (2.0 * AB)"
   ]
  },
  {
   "cell_type": "code",
   "execution_count": 14,
   "id": "933fb2b1-4bba-48f9-a4db-39499b67987d",
   "metadata": {},
   "outputs": [
    {
     "name": "stdout",
     "output_type": "stream",
     "text": [
      "0.2928932188134524\n"
     ]
    }
   ],
   "source": [
    "A = np.array([0.0, 0.0])\n",
    "B = np.array([1.0, 0.0])\n",
    "\n",
    "C = np.array([0.0, 1.0])\n",
    "D = np.array([0.0, 0.0])\n",
    "\n",
    "print(calc_conf_fact(A, B, C, D))"
   ]
  },
  {
   "cell_type": "code",
   "execution_count": 16,
   "id": "82a44836-3736-4dc5-b147-2548c98b861e",
   "metadata": {},
   "outputs": [
    {
     "data": {
      "text/plain": [
       "0.2928932188134524"
      ]
     },
     "execution_count": 16,
     "metadata": {},
     "output_type": "execute_result"
    }
   ],
   "source": [
    "1 - np.sin(np.pi / 4)"
   ]
  },
  {
   "cell_type": "code",
   "execution_count": 17,
   "id": "45809ca4-fe8c-46c7-9dd0-b687aeb34092",
   "metadata": {},
   "outputs": [
    {
     "data": {
      "text/plain": [
       "0.2928932188134524"
      ]
     },
     "execution_count": 17,
     "metadata": {},
     "output_type": "execute_result"
    }
   ],
   "source": [
    "(2 - np.sqrt(2))/2"
   ]
  },
  {
   "cell_type": "code",
   "execution_count": 19,
   "id": "09b9235d-c977-46c2-a7ca-d7041dc407b7",
   "metadata": {},
   "outputs": [
    {
     "data": {
      "text/plain": [
       "0.19891236737965806"
      ]
     },
     "execution_count": 19,
     "metadata": {},
     "output_type": "execute_result"
    }
   ],
   "source": [
    "A = np.array([-0.6, -0.6, 0.0])\n",
    "B = np.array([-0.6707106781186547, -0.5707106781186547, 0.0])\n",
    "C = np.array([-0.6, -0.4, 0.0])\n",
    "D = np.array([-0.5292893218813453, -0.4292893218813453, 0.0])\n",
    "\n",
    "calc_conf_fact(A, B, C, D)"
   ]
  },
  {
   "cell_type": "code",
   "execution_count": null,
   "id": "436940ef-d45f-4d6f-854c-4b9c18f0feb5",
   "metadata": {},
   "outputs": [],
   "source": []
  }
 ],
 "metadata": {
  "kernelspec": {
   "display_name": "Python 3 (ipykernel)",
   "language": "python",
   "name": "python3"
  },
  "language_info": {
   "codemirror_mode": {
    "name": "ipython",
    "version": 3
   },
   "file_extension": ".py",
   "mimetype": "text/x-python",
   "name": "python",
   "nbconvert_exporter": "python",
   "pygments_lexer": "ipython3",
   "version": "3.10.1"
  }
 },
 "nbformat": 4,
 "nbformat_minor": 5
}
