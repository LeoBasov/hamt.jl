{
 "cells": [
  {
   "cell_type": "code",
   "execution_count": 1,
   "id": "b88b7646-0cc7-4943-a1f0-4c1c42a5807c",
   "metadata": {},
   "outputs": [],
   "source": [
    "import numpy as np\n",
    "from sympy import *"
   ]
  },
  {
   "cell_type": "markdown",
   "id": "45b1b941-c178-4074-94a9-2276e16ab365",
   "metadata": {},
   "source": [
    "# View Factor\n",
    "The formula for view factor is given as\n",
    "$$\n",
    "F_{1 \\rightarrow 2} = \\frac{1}{A_1} \\int_{A_2} \\int_{A_1} \\frac{\\cos\\theta_1 \\cos\\theta_2}{\\pi s^2} \\mathrm{d}\\!A_1 \\mathrm{d}\\!A_2\n",
    "$$\n",
    "where $A_i$ is the area, $s$ the distance between the surfaces at a given point, $\\cos\\theta_i$ the cos of angle between distance vector $\\vec{s}$ and the normal vector $\\vec{n}_i$ of the surface $i$.\n",
    "\n",
    "Assuming a planar element (2D) the surface integral over a property $u$ of surface $i$ can be given in the form\n",
    "$$\n",
    "\\int_{A_i} u(x, y) \\mathrm{d}\\!A_i = A_i \\int^1_0 u(x(t), y(t))\\,\\mathrm{d}t\n",
    "$$\n",
    "which transforms the first equation into\n",
    "$$\n",
    "F_{1 \\rightarrow 2} = \\frac{A_2}{\\pi} \\int^1_0 \\int^1_0 \\frac{\\cos\\theta_1(t, k) \\cos\\theta_2(t, k)}{s(t, k)^2}\\,\\mathrm{d}t\\,\\mathrm{d}k\n",
    "$$\n",
    "where $X(x(t, k), y(t, k))$ is replaced by $X(t, k)$.\n",
    "A point at a surface $i$ is given as\n",
    "$$\n",
    "\\vec{x}_i(t) = \\vec{x}_{i, 0} + t \\left(\\vec{x}_{i, 1} - \\vec{x}_{i, 0}\\right)\n",
    "$$\n",
    "and the distance vector\n",
    "$$\n",
    "\\vec{s}_{1 \\rightarrow 2} = \\vec{x}_2(k) - \\vec{x}_1(t).\n",
    "$$\n",
    "The angles are given as\n",
    "\\begin{align}\n",
    "\\cos \\theta_1(t, k) &= \\frac{\\vec{s}_{1 \\rightarrow 2} \\cdot \\vec{n}_1}{\\left| \\vec{s}_{1 \\rightarrow 2} \\right|}\\\\\n",
    "\\cos \\theta_2(t, k) &= \\frac{-\\vec{s}_{1 \\rightarrow 2} \\cdot \\vec{n}_2}{\\left| \\vec{s}_{1 \\rightarrow 2} \\right|}.\n",
    "\\end{align}"
   ]
  },
  {
   "cell_type": "markdown",
   "id": "6793e3b1-8c0c-46ff-bc9f-971d33c4e780",
   "metadata": {},
   "source": [
    "Refrasing $\\vec{s} \\equiv \\vec{s}_{1 \\rightarrow 2}$ and $s \\equiv \\left| \\vec{s}_{1 \\rightarrow 2} \\right|$ we can write\n",
    "$$\n",
    "\\frac{\\cos\\theta_1 \\cos\\theta_2}{s^2} = -\\frac{(\\vec{s}_x \\vec{n}_{1,x} + \\vec{s}_y \\vec{n}_{1,y}) (\\vec{s}_x \\vec{n}_{2,x} + \\vec{s}_y \\vec{n}_{2,y})}{s^4} = -\\frac{(\\vec{s}_x \\vec{n}_{1,x} + \\vec{s}_y \\vec{n}_{1,y}) (\\vec{s}_x \\vec{n}_{2,x} + \\vec{s}_y \\vec{n}_{2,y})}{(\\vec{s}_x^2 + \\vec{s}_y^2)^2}\n",
    "$$"
   ]
  },
  {
   "cell_type": "markdown",
   "id": "2e94cb8f-1d1e-4dbf-aa15-e80cc8f41850",
   "metadata": {},
   "source": [
    "Using the Jacobian\n",
    "$$\n",
    "\\mathrm{J} = \\mathrm{det}\n",
    "\\begin{vmatrix}\n",
    "\\frac{\\partial x}{\\partial t} & \\frac{\\partial x}{\\partial k}\\\\\n",
    "\\frac{\\partial y}{\\partial t} & \\frac{\\partial y}{\\partial k}\n",
    "\\end{vmatrix}\n",
    "$$\n",
    "we ca write\n",
    "$$\n",
    "F_{1 \\rightarrow 2} = -\\frac{A_2}{\\pi}\\,\\mathrm{J} \\int^{s_{y}(1, 1)}_{s_{y}(0, 0)} \\int^{s_{x}(1, 1)}_{s_{x}(0, 0)} \\frac{(\\vec{s}_x \\vec{n}_{1,x} + \\vec{s}_y \\vec{n}_{1,y}) (\\vec{s}_x \\vec{n}_{2,x} + \\vec{s}_y \\vec{n}_{2,y})}{(\\vec{s}_x^2 + \\vec{s}_y^2)^2}\\,\\mathrm{d}\\vec{s}_x\\,\\mathrm{d}\\vec{s}_y\n",
    "$$"
   ]
  },
  {
   "cell_type": "code",
   "execution_count": 2,
   "id": "dc177c11-a81b-49a3-b3d8-4afcc36663ff",
   "metadata": {},
   "outputs": [],
   "source": [
    "sx, sy = symbols(\"s_x s_y\", real=True)\n",
    "n1x, n1y, n2x, n2y = symbols(\"n_{1x} n_{1y} n_{2x} n_{2y}\", real=True)\n",
    "sx0, sx1, sy0, sy1 = symbols(\"s_{x0}, s_{x1}, s_{y0}, s_{y1}\", real=True)\n",
    "\n",
    "eqn = (sx*n1x + sy*n1y)*(sx*n2x + sy*n2y) / (sx**2 + sy**2)**2\n",
    "int1 = integrate(eqn, (sx, sx0, sx1))"
   ]
  },
  {
   "cell_type": "code",
   "execution_count": 3,
   "id": "ddcce6b1-c404-4204-a85f-b5e3a21b4b14",
   "metadata": {},
   "outputs": [
    {
     "data": {
      "text/latex": [
       "$\\displaystyle \\frac{- n_{1x} n_{2y} s_{y} - n_{1y} n_{2x} s_{y} + s_{x1} \\left(- n_{1x} n_{2x} + n_{1y} n_{2y}\\right)}{2 s_{y}^{2} + 2 s_{x1}^{2}} - \\frac{- n_{1x} n_{2y} s_{y} - n_{1y} n_{2x} s_{y} + s_{x0} \\left(- n_{1x} n_{2x} + n_{1y} n_{2y}\\right)}{2 s_{y}^{2} + 2 s_{x0}^{2}} - \\frac{\\left(n_{1x} n_{2x} + n_{1y} n_{2y}\\right) \\operatorname{atan}{\\left(\\frac{s_{x0}}{s_{y}} \\right)}}{2 s_{y}} + \\frac{\\left(n_{1x} n_{2x} + n_{1y} n_{2y}\\right) \\operatorname{atan}{\\left(\\frac{s_{x1}}{s_{y}} \\right)}}{2 s_{y}}$"
      ],
      "text/plain": [
       "(-n_{1x}*n_{2y}*s_y - n_{1y}*n_{2x}*s_y + s_{x1}*(-n_{1x}*n_{2x} + n_{1y}*n_{2y}))/(2*s_y**2 + 2*s_{x1}**2) - (-n_{1x}*n_{2y}*s_y - n_{1y}*n_{2x}*s_y + s_{x0}*(-n_{1x}*n_{2x} + n_{1y}*n_{2y}))/(2*s_y**2 + 2*s_{x0}**2) - (n_{1x}*n_{2x} + n_{1y}*n_{2y})*atan(s_{x0}/s_y)/(2*s_y) + (n_{1x}*n_{2x} + n_{1y}*n_{2y})*atan(s_{x1}/s_y)/(2*s_y)"
      ]
     },
     "execution_count": 3,
     "metadata": {},
     "output_type": "execute_result"
    }
   ],
   "source": [
    "int1"
   ]
  },
  {
   "cell_type": "code",
   "execution_count": 4,
   "id": "1e48a7a6-62b4-4d10-84b8-3615a174405c",
   "metadata": {},
   "outputs": [],
   "source": [
    "int1sub = int1.subs(sx0, 0).subs(sx1, 1)"
   ]
  },
  {
   "cell_type": "code",
   "execution_count": 5,
   "id": "f576bc16-df97-47fd-8b68-d37d2d2aa7bc",
   "metadata": {},
   "outputs": [],
   "source": [
    "int2sub = integrate(int1sub, (sy,0,1))"
   ]
  },
  {
   "cell_type": "code",
   "execution_count": 6,
   "id": "98aba8b1-fdf1-42af-a14a-54667452f577",
   "metadata": {},
   "outputs": [
    {
     "data": {
      "text/latex": [
       "$\\displaystyle \\frac{\\int\\limits_{0}^{1} \\frac{n_{1x} n_{2y}}{s_{y}^{3} + s_{y}}\\, ds_{y}}{2} + \\frac{\\int\\limits_{0}^{1} \\frac{n_{1y} n_{2x}}{s_{y}^{3} + s_{y}}\\, ds_{y}}{2} + \\frac{\\int\\limits_{0}^{1} \\left(- \\frac{n_{1x} n_{2x} s_{y}}{s_{y}^{3} + s_{y}}\\right)\\, ds_{y}}{2} + \\frac{\\int\\limits_{0}^{1} \\frac{n_{1x} n_{2x} \\operatorname{atan}{\\left(\\frac{1}{s_{y}} \\right)}}{s_{y}^{3} + s_{y}}\\, ds_{y}}{2} + \\frac{\\int\\limits_{0}^{1} \\frac{n_{1y} n_{2y} s_{y}}{s_{y}^{3} + s_{y}}\\, ds_{y}}{2} + \\frac{\\int\\limits_{0}^{1} \\frac{n_{1y} n_{2y} \\operatorname{atan}{\\left(\\frac{1}{s_{y}} \\right)}}{s_{y}^{3} + s_{y}}\\, ds_{y}}{2} + \\frac{\\int\\limits_{0}^{1} \\frac{n_{1x} n_{2x} s_{y}^{2} \\operatorname{atan}{\\left(\\frac{1}{s_{y}} \\right)}}{s_{y}^{3} + s_{y}}\\, ds_{y}}{2} + \\frac{\\int\\limits_{0}^{1} \\frac{n_{1y} n_{2y} s_{y}^{2} \\operatorname{atan}{\\left(\\frac{1}{s_{y}} \\right)}}{s_{y}^{3} + s_{y}}\\, ds_{y}}{2}$"
      ],
      "text/plain": [
       "Integral(n_{1x}*n_{2y}/(s_y**3 + s_y), (s_y, 0, 1))/2 + Integral(n_{1y}*n_{2x}/(s_y**3 + s_y), (s_y, 0, 1))/2 + Integral(-n_{1x}*n_{2x}*s_y/(s_y**3 + s_y), (s_y, 0, 1))/2 + Integral(n_{1x}*n_{2x}*atan(1/s_y)/(s_y**3 + s_y), (s_y, 0, 1))/2 + Integral(n_{1y}*n_{2y}*s_y/(s_y**3 + s_y), (s_y, 0, 1))/2 + Integral(n_{1y}*n_{2y}*atan(1/s_y)/(s_y**3 + s_y), (s_y, 0, 1))/2 + Integral(n_{1x}*n_{2x}*s_y**2*atan(1/s_y)/(s_y**3 + s_y), (s_y, 0, 1))/2 + Integral(n_{1y}*n_{2y}*s_y**2*atan(1/s_y)/(s_y**3 + s_y), (s_y, 0, 1))/2"
      ]
     },
     "execution_count": 6,
     "metadata": {},
     "output_type": "execute_result"
    }
   ],
   "source": [
    "int2sub"
   ]
  },
  {
   "cell_type": "code",
   "execution_count": 7,
   "id": "d7bd3421-9efc-4df9-bf96-901078a231af",
   "metadata": {},
   "outputs": [
    {
     "data": {
      "text/latex": [
       "$\\displaystyle \\log{\\left(s_{y} \\right)} - \\frac{\\log{\\left(s_{y}^{2} + 1 \\right)}}{2}$"
      ],
      "text/plain": [
       "log(s_y) - log(s_y**2 + 1)/2"
      ]
     },
     "execution_count": 7,
     "metadata": {},
     "output_type": "execute_result"
    }
   ],
   "source": [
    "integrate(1/(sy**3 + sy), sy)"
   ]
  },
  {
   "cell_type": "code",
   "execution_count": 8,
   "id": "e1147838-190e-4fdd-b875-2a4ca12b4186",
   "metadata": {},
   "outputs": [
    {
     "data": {
      "text/latex": [
       "$\\displaystyle \\operatorname{atan}{\\left(s_{y} \\right)}$"
      ],
      "text/plain": [
       "atan(s_y)"
      ]
     },
     "execution_count": 8,
     "metadata": {},
     "output_type": "execute_result"
    }
   ],
   "source": [
    "integrate(1/(sy**2 + 1), sy)"
   ]
  },
  {
   "cell_type": "code",
   "execution_count": 11,
   "id": "e0c17413-ec2d-4b38-b448-19198baf3603",
   "metadata": {},
   "outputs": [
    {
     "data": {
      "text/latex": [
       "$\\displaystyle \\int \\frac{s_{y} \\operatorname{atan}{\\left(\\frac{1}{s_{y}} \\right)}}{s_{y}^{2} + 1}\\, ds_{y}$"
      ],
      "text/plain": [
       "Integral(s_y*atan(1/s_y)/(s_y**2 + 1), s_y)"
      ]
     },
     "execution_count": 11,
     "metadata": {},
     "output_type": "execute_result"
    }
   ],
   "source": [
    "integrate(sy**2 * atan(1/sy)/(sy**3 + sy), sy).doit()"
   ]
  },
  {
   "cell_type": "code",
   "execution_count": null,
   "id": "fb81e92e-4c06-42d6-8427-3ab2e6cb0b09",
   "metadata": {},
   "outputs": [],
   "source": []
  }
 ],
 "metadata": {
  "kernelspec": {
   "display_name": "Python 3 (ipykernel)",
   "language": "python",
   "name": "python3"
  },
  "language_info": {
   "codemirror_mode": {
    "name": "ipython",
    "version": 3
   },
   "file_extension": ".py",
   "mimetype": "text/x-python",
   "name": "python",
   "nbconvert_exporter": "python",
   "pygments_lexer": "ipython3",
   "version": "3.10.1"
  }
 },
 "nbformat": 4,
 "nbformat_minor": 5
}
