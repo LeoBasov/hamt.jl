{
 "cells": [
  {
   "cell_type": "code",
   "execution_count": 1,
   "id": "b88b7646-0cc7-4943-a1f0-4c1c42a5807c",
   "metadata": {},
   "outputs": [],
   "source": [
    "import numpy as np"
   ]
  },
  {
   "cell_type": "markdown",
   "id": "45b1b941-c178-4074-94a9-2276e16ab365",
   "metadata": {},
   "source": [
    "# View Factor\n",
    "The formula for view factor is given as\n",
    "$$\n",
    "F_{1 \\rightarrow 2} = \\frac{1}{A_1} \\int_{A_2} \\int_{A_1} \\frac{\\cos\\theta_1 \\cos\\theta_2}{\\pi s^2} \\mathrm{d}\\!A_1 \\mathrm{d}\\!A_2\n",
    "$$\n",
    "where $A_i$ is the area, $s$ the distance between the surfaces at a given point, $\\cos\\theta_i$ the cos of angle between distance vector $\\vec{s}$ and the normal vector $\\vec{n}_i$ of the surface $i$.\n",
    "\n",
    "Assuming a planar element (2D) the surface integral over a property $u$ of surface $i$ can be given in the form\n",
    "$$\n",
    "\\int_{A_i} u(x, y) \\mathrm{d}\\!A_i = A_i \\int^1_0 u(x(t), y(t))\\,\\mathrm{d}t\n",
    "$$\n",
    "which transforms the first equation into\n",
    "$$\n",
    "F_{1 \\rightarrow 2} = \\frac{A_2}{\\pi} \\int^1_0 \\int^1_0 \\frac{\\cos\\theta_1(t, k) \\cos\\theta_2(t, k)}{s(t, k)^2}\\,\\mathrm{d}t\\,\\mathrm{d}k\n",
    "$$\n",
    "where $X(x(t, k), y(t, k))$ is replaced by $X(t, k)$.\n",
    "A point at a surface $i$ is given as\n",
    "$$\n",
    "\\vec{x}_i(t) = \\vec{x}_{i, 0} + t \\left(\\vec{x}_{i, 1} - \\vec{x}_{i, 0}\\right)\n",
    "$$\n",
    "and the distance vector\n",
    "$$\n",
    "\\vec{s}_{1 \\rightarrow 2} = \\vec{x}_2(k) - \\vec{x}_1(t).\n",
    "$$\n",
    "The angles are given as\n",
    "\\begin{align}\n",
    "\\cos \\theta_1(t, k) &= \\frac{\\vec{s}_{1 \\rightarrow 2} \\cdot \\vec{n}_1}{\\left| \\vec{s}_{1 \\rightarrow 2} \\right|}\\\\\n",
    "\\cos \\theta_2(t, k) &= \\frac{-\\vec{s}_{1 \\rightarrow 2} \\cdot \\vec{n}_2}{\\left| \\vec{s}_{1 \\rightarrow 2} \\right|}\n",
    "\\end{align}"
   ]
  },
  {
   "cell_type": "code",
   "execution_count": null,
   "id": "8c6411f8-6f04-4ab8-ae23-1819a70ba0f9",
   "metadata": {},
   "outputs": [],
   "source": []
  }
 ],
 "metadata": {
  "kernelspec": {
   "display_name": "Python 3 (ipykernel)",
   "language": "python",
   "name": "python3"
  },
  "language_info": {
   "codemirror_mode": {
    "name": "ipython",
    "version": 3
   },
   "file_extension": ".py",
   "mimetype": "text/x-python",
   "name": "python",
   "nbconvert_exporter": "python",
   "pygments_lexer": "ipython3",
   "version": "3.10.1"
  }
 },
 "nbformat": 4,
 "nbformat_minor": 5
}
