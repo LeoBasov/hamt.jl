{
 "cells": [
  {
   "cell_type": "code",
   "execution_count": 1,
   "id": "b88b7646-0cc7-4943-a1f0-4c1c42a5807c",
   "metadata": {},
   "outputs": [],
   "source": [
    "import numpy as np\n",
    "from sympy import *"
   ]
  },
  {
   "cell_type": "markdown",
   "id": "45b1b941-c178-4074-94a9-2276e16ab365",
   "metadata": {},
   "source": [
    "# View Factor\n",
    "The formula for view factor is given as\n",
    "$$\n",
    "F_{1 \\rightarrow 2} = \\frac{1}{A_1} \\int_{A_2} \\int_{A_1} \\frac{\\cos\\theta_1 \\cos\\theta_2}{\\pi s^2} \\mathrm{d}\\!A_1 \\mathrm{d}\\!A_2\n",
    "$$\n",
    "where $A_i$ is the area, $s$ the distance between the surfaces at a given point, $\\cos\\theta_i$ the cos of angle between distance vector $\\vec{s}$ and the normal vector $\\vec{n}_i$ of the surface $i$.\n",
    "\n",
    "Assuming a planar element (2D) the surface integral over a property $u$ of surface $i$ can be given in the form\n",
    "$$\n",
    "\\int_{A_i} u(x, y) \\mathrm{d}\\!A_i = A_i \\int^1_0 u(x(t), y(t))\\,\\mathrm{d}t\n",
    "$$\n",
    "which transforms the first equation into\n",
    "$$\n",
    "F_{1 \\rightarrow 2} = \\frac{A_2}{\\pi} \\int^1_0 \\int^1_0 \\frac{\\cos\\theta_1(t, k) \\cos\\theta_2(t, k)}{s(t, k)^2}\\,\\mathrm{d}t\\,\\mathrm{d}k\n",
    "$$\n",
    "where $X(x(t, k), y(t, k))$ is replaced by $X(t, k)$.\n",
    "A point at a surface $i$ is given as\n",
    "$$\n",
    "\\vec{x}_i(t) = \\vec{x}_{i, 0} + t \\left(\\vec{x}_{i, 1} - \\vec{x}_{i, 0}\\right)\n",
    "$$\n",
    "and the distance vector\n",
    "$$\n",
    "\\vec{s}_{1 \\rightarrow 2} = \\vec{x}_2(k) - \\vec{x}_1(t).\n",
    "$$\n",
    "The angles are given as\n",
    "\\begin{align}\n",
    "\\cos \\theta_1(t, k) &= \\frac{\\vec{s}_{1 \\rightarrow 2} \\cdot \\vec{n}_1}{\\left| \\vec{s}_{1 \\rightarrow 2} \\right|}\\\\\n",
    "\\cos \\theta_2(t, k) &= \\frac{-\\vec{s}_{1 \\rightarrow 2} \\cdot \\vec{n}_2}{\\left| \\vec{s}_{1 \\rightarrow 2} \\right|}.\n",
    "\\end{align}"
   ]
  },
  {
   "cell_type": "markdown",
   "id": "6793e3b1-8c0c-46ff-bc9f-971d33c4e780",
   "metadata": {},
   "source": [
    "Refrasing $\\vec{s} \\equiv \\vec{s}_{1 \\rightarrow 2}$ and $s \\equiv \\left| \\vec{s}_{1 \\rightarrow 2} \\right|$ we can write\n",
    "$$\n",
    "\\frac{\\cos\\theta_1 \\cos\\theta_2}{s^2} = \\frac{(\\vec{s}_x \\vec{n}_{1,x} + \\vec{s}_y \\vec{n}_{1,y}) (-\\vec{s}_x \\vec{n}_{2,x} - \\vec{s}_y \\vec{n}_{2,y})}{s^4}\n",
    "$$"
   ]
  },
  {
   "cell_type": "code",
   "execution_count": 2,
   "id": "dc177c11-a81b-49a3-b3d8-4afcc36663ff",
   "metadata": {},
   "outputs": [
    {
     "data": {
      "text/latex": [
       "$\\displaystyle - \\frac{\\left(k \\left(- \\Delta_{2x} n_{1x} - \\Delta_{2y} n_{1y}\\right) + n_{1x} x_{01x} - n_{1x} x_{02x} + n_{1y} x_{01y} - n_{1y} x_{02y} + t \\left(\\Delta_{1x} n_{1x} + \\Delta_{1y} n_{1y}\\right)\\right) \\left(k \\left(- \\Delta_{2x} n_{2x} - \\Delta_{2y} n_{2y}\\right) + n_{2x} x_{01x} - n_{2x} x_{02x} + n_{2y} x_{01y} - n_{2y} x_{02y} + t \\left(\\Delta_{1x} n_{2x} + \\Delta_{1y} n_{2y}\\right)\\right)}{\\left(k^{2} \\left(\\Delta_{2x}^{2} + \\Delta_{2y}^{2}\\right) + k t \\left(- 2 \\Delta_{1x} \\Delta_{2x} - 2 \\Delta_{1y} \\Delta_{2y}\\right) + k \\left(- 2 \\Delta_{2x} x_{01x} + 2 \\Delta_{2x} x_{02x} - 2 \\Delta_{2y} x_{01y} + 2 \\Delta_{2y} x_{02y}\\right) + t^{2} \\left(\\Delta_{1x}^{2} + \\Delta_{1y}^{2}\\right) + t \\left(2 \\Delta_{1x} x_{01x} - 2 \\Delta_{1x} x_{02x} + 2 \\Delta_{1y} x_{01y} - 2 \\Delta_{1y} x_{02y}\\right) + x_{01x}^{2} - 2 x_{01x} x_{02x} + x_{01y}^{2} - 2 x_{01y} x_{02y} + x_{02x}^{2} + x_{02y}^{2}\\right)^{2}}$"
      ],
      "text/plain": [
       "-(k*(-\\Delta_{2x}*n_{1x} - \\Delta_{2y}*n_{1y}) + n_{1x}*x_{01x} - n_{1x}*x_{02x} + n_{1y}*x_{01y} - n_{1y}*x_{02y} + t*(\\Delta_{1x}*n_{1x} + \\Delta_{1y}*n_{1y}))*(k*(-\\Delta_{2x}*n_{2x} - \\Delta_{2y}*n_{2y}) + n_{2x}*x_{01x} - n_{2x}*x_{02x} + n_{2y}*x_{01y} - n_{2y}*x_{02y} + t*(\\Delta_{1x}*n_{2x} + \\Delta_{1y}*n_{2y}))/(k**2*(\\Delta_{2x}**2 + \\Delta_{2y}**2) + k*t*(-2*\\Delta_{1x}*\\Delta_{2x} - 2*\\Delta_{1y}*\\Delta_{2y}) + k*(-2*\\Delta_{2x}*x_{01x} + 2*\\Delta_{2x}*x_{02x} - 2*\\Delta_{2y}*x_{01y} + 2*\\Delta_{2y}*x_{02y}) + t**2*(\\Delta_{1x}**2 + \\Delta_{1y}**2) + t*(2*\\Delta_{1x}*x_{01x} - 2*\\Delta_{1x}*x_{02x} + 2*\\Delta_{1y}*x_{01y} - 2*\\Delta_{1y}*x_{02y}) + x_{01x}**2 - 2*x_{01x}*x_{02x} + x_{01y}**2 - 2*x_{01y}*x_{02y} + x_{02x}**2 + x_{02y}**2)**2"
      ]
     },
     "execution_count": 2,
     "metadata": {},
     "output_type": "execute_result"
    }
   ],
   "source": [
    "x01x, x01y, x02x, x02y, d1x, d1y, d2x, d2y = symbols(\"x_{01x} x_{01y} x_{02x} x_{02y} \\Delta_{1x} \\Delta_{1y} \\Delta_{2x} \\Delta_{2y}\", real=True)\n",
    "n1x, n1y, n2x, n2y = symbols(\"n_{1x} n_{1y} n_{2x} n_{2y}\", real=True)\n",
    "t, k = symbols(\"t  k\", real=True, positive=True)\n",
    "\n",
    "x1x = x01x + t*d1x\n",
    "x1y = x01y + t*d1y\n",
    "\n",
    "x2x = x02x + k*d2x\n",
    "x2y = x02y + k*d2y\n",
    "\n",
    "sx = x2x - x1x\n",
    "sy = x2y - x1y\n",
    "\n",
    "eqn = (sx*n1x + sy*n1y) * (-sx*n2x - sy*n2y) / ((sx**2 + sy**2)**2)\n",
    "eqn.factor(t, k)"
   ]
  },
  {
   "cell_type": "code",
   "execution_count": null,
   "id": "ddcce6b1-c404-4204-a85f-b5e3a21b4b14",
   "metadata": {},
   "outputs": [],
   "source": []
  }
 ],
 "metadata": {
  "kernelspec": {
   "display_name": "Python 3 (ipykernel)",
   "language": "python",
   "name": "python3"
  },
  "language_info": {
   "codemirror_mode": {
    "name": "ipython",
    "version": 3
   },
   "file_extension": ".py",
   "mimetype": "text/x-python",
   "name": "python",
   "nbconvert_exporter": "python",
   "pygments_lexer": "ipython3",
   "version": "3.10.1"
  }
 },
 "nbformat": 4,
 "nbformat_minor": 5
}
